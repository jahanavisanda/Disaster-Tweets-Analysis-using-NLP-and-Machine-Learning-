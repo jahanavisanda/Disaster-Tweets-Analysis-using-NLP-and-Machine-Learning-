{
  "cells": [
    {
      "cell_type": "markdown",
      "metadata": {
        "id": "view-in-github",
        "colab_type": "text"
      },
      "source": [
        "<a href=\"https://colab.research.google.com/github/jahanavisanda/Disaster-Tweets-Analysis-using-NLP-and-Machine-Learning-/blob/master/CNST_tweets_classification_final.ipynb\" target=\"_parent\"><img src=\"https://colab.research.google.com/assets/colab-badge.svg\" alt=\"Open In Colab\"/></a>"
      ]
    },
    {
      "cell_type": "markdown",
      "metadata": {
        "id": "WZP0F4OamRyk"
      },
      "source": [
        "#Data Pre-processing"
      ]
    },
    {
      "cell_type": "code",
      "execution_count": null,
      "metadata": {
        "colab": {
          "base_uri": "https://localhost:8080/"
        },
        "id": "KaXBBiZ36HCn",
        "outputId": "edf90044-8afd-41bb-f786-064ef877c986"
      },
      "outputs": [
        {
          "output_type": "stream",
          "name": "stderr",
          "text": [
            "[nltk_data] Downloading package stopwords to /root/nltk_data...\n",
            "[nltk_data]   Package stopwords is already up-to-date!\n",
            "<ipython-input-39-4b95d9f0c2d2>:12: SettingWithCopyWarning: \n",
            "A value is trying to be set on a copy of a slice from a DataFrame.\n",
            "Try using .loc[row_indexer,col_indexer] = value instead\n",
            "\n",
            "See the caveats in the documentation: https://pandas.pydata.org/pandas-docs/stable/user_guide/indexing.html#returning-a-view-versus-a-copy\n",
            "  df['label'] = 0\n",
            "/usr/local/lib/python3.8/dist-packages/pandas/core/indexing.py:1817: SettingWithCopyWarning: \n",
            "A value is trying to be set on a copy of a slice from a DataFrame.\n",
            "Try using .loc[row_indexer,col_indexer] = value instead\n",
            "\n",
            "See the caveats in the documentation: https://pandas.pydata.org/pandas-docs/stable/user_guide/indexing.html#returning-a-view-versus-a-copy\n",
            "  self._setitem_single_column(loc, value, pi)\n",
            "<ipython-input-39-4b95d9f0c2d2>:27: FutureWarning: The default value of regex will change from True to False in a future version.\n",
            "  df['processed_tweet'] = df['tweet'].str.replace(\"[^a-zA-Z#]\", \" \")\n"
          ]
        },
        {
          "output_type": "stream",
          "name": "stdout",
          "text": [
            "                                        processed_tweet  label\n",
            "0     occupi @cpsenergi warm roll storm build sinc k...      0\n",
            "1     realli carri need shut hebâ€™s. thereâ€™ itâ€™...      0\n",
            "2     ðÿ¤¦ðÿ_x008f_»â€_x008d_â™€ï¸_x008f_ gonna yâ€™...      0\n",
            "3                 ice way -prayer storm texa anoth head      0\n",
            "4     confirm storm. @mysaw suppli winter water weat...      0\n",
            "...                                                 ...    ...\n",
            "2316  south water, service. storm texa doesnâ€™t kno...     10\n",
            "2317      outag trippin internet ... xfiniti @markie_ge      9\n",
            "2318                                area outag internet      9\n",
            "2319  went servic middl mg ima cri kbye electr mf wh...      9\n",
            "2320  teacher closur virtual 16. extracurricular man...      9\n",
            "\n",
            "[2321 rows x 2 columns]\n"
          ]
        }
      ],
      "source": [
        "###########################PRE-PROCESSING####################\n",
        "import pandas as pd\n",
        "import nltk\n",
        "nltk.download('stopwords')\n",
        "\n",
        "# read by default 1st sheet of an excel file\n",
        "df = pd.read_excel('/content/dataset.xlsx')\n",
        "df = df[['tweet', 'Label 1']]\n",
        "\n",
        "\n",
        "#transform y\n",
        "df['label'] = 0\n",
        "df.loc[df['Label 1'] == 'POWER OUTAGE', 'label'] = 1\n",
        "df.loc[df['Label 1'] == 'FOOD SHORTAGE', 'label'] = 2\n",
        "df.loc[df['Label 1'] == 'HOUSE TEMPERATURE', 'label'] = 3\n",
        "df.loc[df['Label 1'] == 'PREPARATION FOR THE WINTER STORM', 'label'] = 4\n",
        "df.loc[df['Label 1'] == 'INJURIES', 'label'] = 5\n",
        "df.loc[df['Label 1'] == 'WATER OUTAGE', 'label'] = 6\n",
        "df.loc[df['Label 1'] == 'HOUSE DAMAGE', 'label'] = 7\n",
        "df.loc[df['Label 1'] == 'ALTERNATIVE HEATING', 'label'] = 8\n",
        "df.loc[df['Label 1'] == 'INTERNET CONNECTION', 'label'] = 9\n",
        "df.loc[df['Label 1'] == 'PHONE SERVICE', 'label'] = 10\n",
        "\n",
        "\n",
        "#Removing Punctuations, Numbers, and Special Characters\n",
        "\n",
        "df['processed_tweet'] = df['tweet'].str.replace(\"[^a-zA-Z#]\", \" \")\n",
        "df['processed_tweet'] = df['tweet'].str.replace(\"#\", \"\")\n",
        "\n",
        "#remove empty tweet\n",
        "df['processed_tweet']=df['processed_tweet'].fillna(\"\")\n",
        "\n",
        "\n",
        "# get most common words in training dataset\n",
        "from collections import Counter\n",
        "all_words = []\n",
        "for line in list(df['processed_tweet']):\n",
        "    words = line.split()\n",
        "    for word in words:\n",
        "        all_words.append(word.lower())\n",
        "\n",
        "a=Counter(all_words).most_common(10)\n",
        "\n",
        "#tokenization\n",
        "df['processed_tweet'] = df['processed_tweet'].apply(lambda x: x.split())\n",
        "\n",
        "\n",
        "#stemmer\n",
        "from nltk.stem.snowball import SnowballStemmer\n",
        "stemmer = SnowballStemmer(\"english\")\n",
        "df['processed_tweet']= df['processed_tweet'].apply(lambda x: [stemmer.stem(i) for i in x])\n",
        "\n",
        "\n",
        "#remove stopwords\n",
        "from nltk.corpus import stopwords\n",
        "from nltk.tokenize import word_tokenize\n",
        "stopwords = nltk.corpus.stopwords.words('english')\n",
        "newStopWords = ['u','go','got','via','or','ur','us','in','i','let','the','to','is','amp','make','one','day','days','get']\n",
        "stopwords.extend(newStopWords)\n",
        "\n",
        "#normalize tweet\n",
        "import string\n",
        "def process(text):\n",
        "    # Check characters to see if they are in punctuation\n",
        "    nopunc = set(char for char in list(text) if char not in string.punctuation)\n",
        "    # Join the characters to form the string.\n",
        "    nopunc = \" \".join(nopunc)\n",
        "    # remove any stopwords if present\n",
        "    return [word for word in nopunc.lower().split() if word.lower() not in stopwords]\n",
        "df['processed_tweet'] = df['processed_tweet'].apply(process)\n",
        "\n",
        "def string (text):\n",
        "    to_return=\"\"\n",
        "    for i in list(text):\n",
        "        to_return += str(i) + \" \"\n",
        "    to_return = to_return[:-1]\n",
        "    return to_return\n",
        "df['processed_tweet'] = df['processed_tweet'].apply(string)\n",
        "\n",
        "\n",
        "# Create New DataFrame of Specific column by DataFrame.assign() method.\n",
        "data = pd.DataFrame().assign(processed_tweet=df['processed_tweet'], label=df['label'])\n",
        "print(data)\n"
      ]
    },
    {
      "cell_type": "markdown",
      "metadata": {
        "id": "IA80wOC-mNeY"
      },
      "source": [
        "#Train/Test Split"
      ]
    },
    {
      "cell_type": "code",
      "execution_count": null,
      "metadata": {
        "colab": {
          "base_uri": "https://localhost:8080/"
        },
        "id": "x6LF34BkALge",
        "outputId": "f1b39f96-99b8-41f2-85ed-fd075bf1a2d5"
      },
      "outputs": [
        {
          "output_type": "stream",
          "name": "stdout",
          "text": [
            "training set : (1856,) (1856,)\n",
            "testing set : (465,) (465,)\n",
            "(1856, 5992)\n",
            "(1856, 5992)\n",
            "(465, 5992)\n",
            "(465, 5992)\n"
          ]
        }
      ],
      "source": [
        "#Split data into training and testing sets\n",
        "from sklearn.feature_extraction.text import CountVectorizer\n",
        "from sklearn.model_selection import train_test_split\n",
        "x_train, x_test, y_train, y_test = train_test_split(data[\"processed_tweet\"],\n",
        "                                                    data[\"label\"], test_size = 0.2, random_state = 42)\n",
        "\n",
        "print(\"training set :\",x_train.shape,y_train.shape)\n",
        "print(\"testing set :\",x_test.shape,y_test.shape)\n",
        "\n",
        "from sklearn.feature_extraction.text import CountVectorizer, TfidfTransformer\n",
        "count_vect = CountVectorizer(stop_words='english')\n",
        "transformer = TfidfTransformer(norm='l2',sublinear_tf=True)\n",
        "\n",
        "x_train_counts = count_vect.fit_transform(x_train)\n",
        "x_train_tfidf = transformer.fit_transform(x_train_counts)\n",
        "\n",
        "print(x_train_counts.shape)\n",
        "print(x_train_tfidf.shape)\n",
        "\n",
        "x_test_counts = count_vect.transform(x_test)\n",
        "x_test_tfidf = transformer.transform(x_test_counts)\n",
        "\n",
        "print(x_test_counts.shape)\n",
        "print(x_test_tfidf.shape)"
      ]
    },
    {
      "cell_type": "markdown",
      "metadata": {
        "id": "z9bEpWbvik44"
      },
      "source": [
        "#Decision Tree"
      ]
    },
    {
      "cell_type": "code",
      "execution_count": null,
      "metadata": {
        "colab": {
          "base_uri": "https://localhost:8080/"
        },
        "id": "vOLY7n-Lj0f0",
        "outputId": "d329fb5a-2ed3-4d39-b2c5-e531e79e49a9"
      },
      "outputs": [
        {
          "output_type": "stream",
          "name": "stdout",
          "text": [
            "ACCURACY SCORE 80.0\n",
            "MEAN SQUARE ERROR 4.202150537634409\n",
            "F1 SCORE 0.25300002325537685\n",
            "PRECISION SCORE 0.2786959281320183\n",
            "RECALL SCORE 0.2495906629705433\n"
          ]
        },
        {
          "output_type": "stream",
          "name": "stderr",
          "text": [
            "/usr/local/lib/python3.8/dist-packages/sklearn/metrics/_classification.py:1318: UndefinedMetricWarning: Precision is ill-defined and being set to 0.0 in labels with no predicted samples. Use `zero_division` parameter to control this behavior.\n",
            "  _warn_prf(average, modifier, msg_start, len(result))\n"
          ]
        }
      ],
      "source": [
        "#MODEL BUILDING\n",
        "from sklearn.tree import DecisionTreeClassifier\n",
        "from sklearn.metrics import mean_squared_error\n",
        "model_gini = DecisionTreeClassifier(criterion = \"gini\",\n",
        "            random_state = 123,max_depth=10, min_samples_leaf=6)\n",
        "model_gini.fit(x_train_tfidf, y_train)\n",
        "predictions = model_gini.predict(x_test_tfidf)\n",
        "\n",
        "#MODEL EVALUATION\n",
        "from sklearn.metrics import accuracy_score\n",
        "from sklearn.metrics import mean_squared_error\n",
        "from sklearn.metrics import confusion_matrix,f1_score,precision_score,recall_score\n",
        "\n",
        "print(\"ACCURACY SCORE\",accuracy_score(y_test,predictions)*100)\n",
        "print(\"MEAN SQUARE ERROR\",mean_squared_error(y_test,predictions))\n",
        "# print(\"CONFUSION MATRIX\",confusion_matrix(y_test,predictions))\n",
        "print(\"F1 SCORE\",f1_score(y_test,predictions,average='macro'))\n",
        "print(\"PRECISION SCORE\",precision_score(y_test,predictions,average='macro'))\n",
        "print(\"RECALL SCORE\",recall_score(y_test,predictions,average='macro'))"
      ]
    },
    {
      "cell_type": "code",
      "source": [
        "from sklearn.metrics import confusion_matrix\n",
        "import numpy as np\n",
        "cm = confusion_matrix(y_test, predictions)\n",
        "target_names = ['POWER OUTAGE', 'FOOD SHORTAGE', 'HOUSE TEMPERATURE', 'PREPARATION FOR THE WINTER STORM', 'INJURIES', 'WATER OUTAGE'\n",
        "'HOUSE DAMAGE', 'ALTERNATIVE HEATING', 'INTERNET CONNECTION','PHONE SERVICE' ]\n",
        "#Now the normalize the diagonal entries\n",
        "cm = cm.astype('float') / cm.sum(axis=1)[:, np.newaxis]\n",
        "#The diagonal entries are the accuracies of each class\n",
        "accuracies_decision = cm.diagonal()\n",
        "# #array([1.        , 0.        , 0.66666667])\n",
        "for class_name, accuracy in zip(target_names, accuracies_decision):\n",
        "  print(\"{}: {}\".format(class_name,accuracy*100))"
      ],
      "metadata": {
        "colab": {
          "base_uri": "https://localhost:8080/"
        },
        "id": "KmFCfR1ImUXN",
        "outputId": "efc585d1-3601-41ac-ba5a-f58be3e21781"
      },
      "execution_count": null,
      "outputs": [
        {
          "output_type": "stream",
          "name": "stdout",
          "text": [
            "POWER OUTAGE: 93.1129476584022\n",
            "FOOD SHORTAGE: 43.103448275862064\n",
            "HOUSE TEMPERATURE: 0.0\n",
            "PREPARATION FOR THE WINTER STORM: 0.0\n",
            "INJURIES: 0.0\n",
            "WATER OUTAGEHOUSE DAMAGE: 0.0\n",
            "ALTERNATIVE HEATING: 25.0\n",
            "INTERNET CONNECTION: 0.0\n",
            "PHONE SERVICE: 30.0\n"
          ]
        }
      ]
    },
    {
      "cell_type": "markdown",
      "metadata": {
        "id": "1Oqpkp-MihBN"
      },
      "source": [
        "#Random Forest"
      ]
    },
    {
      "cell_type": "code",
      "execution_count": null,
      "metadata": {
        "colab": {
          "base_uri": "https://localhost:8080/"
        },
        "id": "eqW7EzIGAkH7",
        "outputId": "e4e2d2e2-8cc8-4640-b5a8-030215ccde44"
      },
      "outputs": [
        {
          "output_type": "stream",
          "name": "stdout",
          "text": [
            "ACCURACY SCORE 80.21505376344086\n",
            "MEAN SQUARE ERROR 4.172043010752688\n",
            "F1 SCORE 0.17612724593238757\n",
            "PRECISION SCORE 0.197379679144385\n",
            "RECALL SCORE 0.16577286112766307\n"
          ]
        },
        {
          "output_type": "stream",
          "name": "stderr",
          "text": [
            "/usr/local/lib/python3.8/dist-packages/sklearn/metrics/_classification.py:1318: UndefinedMetricWarning: Precision is ill-defined and being set to 0.0 in labels with no predicted samples. Use `zero_division` parameter to control this behavior.\n",
            "  _warn_prf(average, modifier, msg_start, len(result))\n"
          ]
        }
      ],
      "source": [
        "#MODEL BUILDING\n",
        "from sklearn.ensemble import RandomForestClassifier\n",
        "model = RandomForestClassifier(n_estimators=200)\n",
        "model.fit(x_train_tfidf,y_train)\n",
        "predictions = model.predict(x_test_tfidf)\n",
        "\n",
        "#MODEL EVALUATION\n",
        "from sklearn.metrics import accuracy_score\n",
        "from sklearn.metrics import mean_squared_error\n",
        "from sklearn.metrics import confusion_matrix,f1_score,precision_score,recall_score\n",
        "\n",
        "print(\"ACCURACY SCORE\",accuracy_score(y_test,predictions)*100)\n",
        "print(\"MEAN SQUARE ERROR\",mean_squared_error(y_test,predictions))\n",
        "# print(\"CONFUSION MATRIX\",confusion_matrix(y_test,predictions))\n",
        "print(\"F1 SCORE\",f1_score(y_test,predictions,average='macro'))\n",
        "print(\"PRECISION SCORE\",precision_score(y_test,predictions,average='macro'))\n",
        "print(\"RECALL SCORE\",recall_score(y_test,predictions,average='macro'))\n",
        "\n"
      ]
    },
    {
      "cell_type": "code",
      "source": [
        "cm = confusion_matrix(y_test, predictions)\n",
        "target_names = ['POWER OUTAGE', 'FOOD SHORTAGE', 'HOUSE TEMPERATURE', 'PREPARATION FOR THE WINTER STORM', 'INJURIES', 'WATER OUTAGE'\n",
        "'HOUSE DAMAGE', 'ALTERNATIVE HEATING', 'INTERNET CONNECTION','PHONE SERVICE' ]\n",
        "#Now the normalize the diagonal entries\n",
        "cm = cm.astype('float') / cm.sum(axis=1)[:, np.newaxis]\n",
        "#The diagonal entries are the accuracies of each class\n",
        "accuracies_random = cm.diagonal()\n",
        "# #array([1.        , 0.        , 0.66666667])\n",
        "for class_name, accuracy in zip(target_names, accuracies_random):\n",
        "  print(\"{}: {}\".format(class_name,accuracy*100))"
      ],
      "metadata": {
        "colab": {
          "base_uri": "https://localhost:8080/"
        },
        "id": "64-pRL0jk4vP",
        "outputId": "80ea4600-3d52-44ea-9e9d-6a9bfa7f706c"
      },
      "execution_count": null,
      "outputs": [
        {
          "output_type": "stream",
          "name": "stdout",
          "text": [
            "POWER OUTAGE: 96.14325068870524\n",
            "FOOD SHORTAGE: 36.206896551724135\n",
            "HOUSE TEMPERATURE: 0.0\n",
            "PREPARATION FOR THE WINTER STORM: 0.0\n",
            "INJURIES: 0.0\n",
            "WATER OUTAGEHOUSE DAMAGE: 0.0\n",
            "ALTERNATIVE HEATING: 0.0\n",
            "INTERNET CONNECTION: 0.0\n",
            "PHONE SERVICE: 0.0\n"
          ]
        }
      ]
    },
    {
      "cell_type": "markdown",
      "metadata": {
        "id": "_2GtQhgZnnXm"
      },
      "source": [
        "## SVM"
      ]
    },
    {
      "cell_type": "code",
      "execution_count": null,
      "metadata": {
        "colab": {
          "base_uri": "https://localhost:8080/"
        },
        "id": "aHyKvgh9npMY",
        "outputId": "3e5c1279-e759-4867-d82e-5ad985f8278e"
      },
      "outputs": [
        {
          "output_type": "stream",
          "name": "stdout",
          "text": [
            "ACCURACY SCORE 81.93548387096774\n",
            "MEAN SQUARE ERROR 3.574193548387097\n",
            "F1 SCORE 0.25824345838495116\n",
            "PRECISION SCORE 0.35681438919861946\n",
            "RECALL SCORE 0.23528243391452283\n"
          ]
        },
        {
          "output_type": "stream",
          "name": "stderr",
          "text": [
            "/usr/local/lib/python3.8/dist-packages/sklearn/metrics/_classification.py:1318: UndefinedMetricWarning: Precision is ill-defined and being set to 0.0 in labels with no predicted samples. Use `zero_division` parameter to control this behavior.\n",
            "  _warn_prf(average, modifier, msg_start, len(result))\n"
          ]
        }
      ],
      "source": [
        "#MODEL BUILDING\n",
        "from sklearn.svm import SVC\n",
        "model_svm = SVC(kernel = 'linear',gamma = 'scale', shrinking = False, probability=True)\n",
        "# model_svm.fit(x_train_tfidf,y_train)\n",
        "model_svm.fit(x_train_tfidf,y_train)\n",
        "predictions = model_svm.predict(x_test_tfidf)\n",
        "\n",
        "#MODEL EVALUATION\n",
        "from sklearn.metrics import accuracy_score\n",
        "from sklearn.metrics import mean_squared_error\n",
        "from sklearn.metrics import confusion_matrix,f1_score,precision_score,recall_score\n",
        "\n",
        "print(\"ACCURACY SCORE\",accuracy_score(y_test,predictions)*100)\n",
        "print(\"MEAN SQUARE ERROR\",mean_squared_error(y_test,predictions))\n",
        "# print(\"CONFUSION MATRIX\",confusion_matrix(y_test,predictions))\n",
        "print(\"F1 SCORE\",f1_score(y_test,predictions,average='macro'))\n",
        "print(\"PRECISION SCORE\",precision_score(y_test,predictions,average='macro'))\n",
        "print(\"RECALL SCORE\",recall_score(y_test,predictions,average='macro'))"
      ]
    },
    {
      "cell_type": "code",
      "source": [
        "cm = confusion_matrix(y_test, predictions)\n",
        "target_names = ['POWER OUTAGE', 'FOOD SHORTAGE', 'HOUSE TEMPERATURE', 'PREPARATION FOR THE WINTER STORM', 'INJURIES', 'WATER OUTAGE',\n",
        "'HOUSE DAMAGE', 'ALTERNATIVE HEATING', 'INTERNET CONNECTION','PHONE SERVICE' ]\n",
        "#Now the normalize the diagonal entries\n",
        "cm = cm.astype('float') / cm.sum(axis=1)[:, np.newaxis]\n",
        "#The diagonal entries are the accuracies of each class\n",
        "accuracies_svm = cm.diagonal()\n",
        "# #array([1.        , 0.        , 0.66666667])\n",
        "for class_name, accuracy in zip(target_names, accuracies_svm):\n",
        "  print(\"{}: {}\".format(class_name,accuracy*100))"
      ],
      "metadata": {
        "colab": {
          "base_uri": "https://localhost:8080/"
        },
        "id": "h6vAHQXzq_8V",
        "outputId": "2c0cba6c-35c0-45ce-cf45-0afed1efe790"
      },
      "execution_count": null,
      "outputs": [
        {
          "output_type": "stream",
          "name": "stdout",
          "text": [
            "POWER OUTAGE: 95.59228650137742\n",
            "FOOD SHORTAGE: 46.55172413793103\n",
            "HOUSE TEMPERATURE: 0.0\n",
            "PREPARATION FOR THE WINTER STORM: 0.0\n",
            "INJURIES: 0.0\n",
            "WATER OUTAGE: 0.0\n",
            "HOUSE DAMAGE: 0.0\n",
            "ALTERNATIVE HEATING: 0.0\n",
            "INTERNET CONNECTION: 10.0\n",
            "PHONE SERVICE: 66.66666666666666\n"
          ]
        }
      ]
    },
    {
      "cell_type": "markdown",
      "source": [
        "# Accuracy of the models for different classes"
      ],
      "metadata": {
        "id": "OcF82Cclr9sB"
      }
    },
    {
      "cell_type": "code",
      "source": [
        "import pandas as pd\n",
        "\n",
        "df = pd.DataFrame(list(zip(target_names, accuracies_decision*100, accuracies_random*100, accuracies_svm*100)),\n",
        "               columns =['Class Name', 'Decision Tree', 'Random Forests', 'SVM'])\n",
        "df"
      ],
      "metadata": {
        "colab": {
          "base_uri": "https://localhost:8080/",
          "height": 322
        },
        "id": "LYOP5R-NrXsa",
        "outputId": "9c4ba783-926c-4224-fad8-ff0476fd15e0"
      },
      "execution_count": null,
      "outputs": [
        {
          "output_type": "execute_result",
          "data": {
            "text/plain": [
              "                         Class Name  Decision Tree  Random Forests        SVM\n",
              "0                      POWER OUTAGE      93.112948       96.143251  95.592287\n",
              "1                     FOOD SHORTAGE      43.103448       36.206897  46.551724\n",
              "2                 HOUSE TEMPERATURE       0.000000        0.000000   0.000000\n",
              "3  PREPARATION FOR THE WINTER STORM       0.000000        0.000000   0.000000\n",
              "4                          INJURIES       0.000000        0.000000   0.000000\n",
              "5                      WATER OUTAGE       0.000000        0.000000   0.000000\n",
              "6                      HOUSE DAMAGE      25.000000        0.000000   0.000000\n",
              "7               ALTERNATIVE HEATING       0.000000        0.000000   0.000000\n",
              "8               INTERNET CONNECTION      30.000000        0.000000  10.000000\n",
              "9                     PHONE SERVICE      83.333333       50.000000  66.666667"
            ],
            "text/html": [
              "\n",
              "  <div id=\"df-8e813fd9-1900-425f-9027-c5f8dcfd777f\">\n",
              "    <div class=\"colab-df-container\">\n",
              "      <div>\n",
              "<style scoped>\n",
              "    .dataframe tbody tr th:only-of-type {\n",
              "        vertical-align: middle;\n",
              "    }\n",
              "\n",
              "    .dataframe tbody tr th {\n",
              "        vertical-align: top;\n",
              "    }\n",
              "\n",
              "    .dataframe thead th {\n",
              "        text-align: right;\n",
              "    }\n",
              "</style>\n",
              "<table border=\"1\" class=\"dataframe\">\n",
              "  <thead>\n",
              "    <tr style=\"text-align: right;\">\n",
              "      <th></th>\n",
              "      <th>Class Name</th>\n",
              "      <th>Decision Tree</th>\n",
              "      <th>Random Forests</th>\n",
              "      <th>SVM</th>\n",
              "    </tr>\n",
              "  </thead>\n",
              "  <tbody>\n",
              "    <tr>\n",
              "      <th>0</th>\n",
              "      <td>POWER OUTAGE</td>\n",
              "      <td>93.112948</td>\n",
              "      <td>96.143251</td>\n",
              "      <td>95.592287</td>\n",
              "    </tr>\n",
              "    <tr>\n",
              "      <th>1</th>\n",
              "      <td>FOOD SHORTAGE</td>\n",
              "      <td>43.103448</td>\n",
              "      <td>36.206897</td>\n",
              "      <td>46.551724</td>\n",
              "    </tr>\n",
              "    <tr>\n",
              "      <th>2</th>\n",
              "      <td>HOUSE TEMPERATURE</td>\n",
              "      <td>0.000000</td>\n",
              "      <td>0.000000</td>\n",
              "      <td>0.000000</td>\n",
              "    </tr>\n",
              "    <tr>\n",
              "      <th>3</th>\n",
              "      <td>PREPARATION FOR THE WINTER STORM</td>\n",
              "      <td>0.000000</td>\n",
              "      <td>0.000000</td>\n",
              "      <td>0.000000</td>\n",
              "    </tr>\n",
              "    <tr>\n",
              "      <th>4</th>\n",
              "      <td>INJURIES</td>\n",
              "      <td>0.000000</td>\n",
              "      <td>0.000000</td>\n",
              "      <td>0.000000</td>\n",
              "    </tr>\n",
              "    <tr>\n",
              "      <th>5</th>\n",
              "      <td>WATER OUTAGE</td>\n",
              "      <td>0.000000</td>\n",
              "      <td>0.000000</td>\n",
              "      <td>0.000000</td>\n",
              "    </tr>\n",
              "    <tr>\n",
              "      <th>6</th>\n",
              "      <td>HOUSE DAMAGE</td>\n",
              "      <td>25.000000</td>\n",
              "      <td>0.000000</td>\n",
              "      <td>0.000000</td>\n",
              "    </tr>\n",
              "    <tr>\n",
              "      <th>7</th>\n",
              "      <td>ALTERNATIVE HEATING</td>\n",
              "      <td>0.000000</td>\n",
              "      <td>0.000000</td>\n",
              "      <td>0.000000</td>\n",
              "    </tr>\n",
              "    <tr>\n",
              "      <th>8</th>\n",
              "      <td>INTERNET CONNECTION</td>\n",
              "      <td>30.000000</td>\n",
              "      <td>0.000000</td>\n",
              "      <td>10.000000</td>\n",
              "    </tr>\n",
              "    <tr>\n",
              "      <th>9</th>\n",
              "      <td>PHONE SERVICE</td>\n",
              "      <td>83.333333</td>\n",
              "      <td>50.000000</td>\n",
              "      <td>66.666667</td>\n",
              "    </tr>\n",
              "  </tbody>\n",
              "</table>\n",
              "</div>\n",
              "      <button class=\"colab-df-convert\" onclick=\"convertToInteractive('df-8e813fd9-1900-425f-9027-c5f8dcfd777f')\"\n",
              "              title=\"Convert this dataframe to an interactive table.\"\n",
              "              style=\"display:none;\">\n",
              "        \n",
              "  <svg xmlns=\"http://www.w3.org/2000/svg\" height=\"24px\"viewBox=\"0 0 24 24\"\n",
              "       width=\"24px\">\n",
              "    <path d=\"M0 0h24v24H0V0z\" fill=\"none\"/>\n",
              "    <path d=\"M18.56 5.44l.94 2.06.94-2.06 2.06-.94-2.06-.94-.94-2.06-.94 2.06-2.06.94zm-11 1L8.5 8.5l.94-2.06 2.06-.94-2.06-.94L8.5 2.5l-.94 2.06-2.06.94zm10 10l.94 2.06.94-2.06 2.06-.94-2.06-.94-.94-2.06-.94 2.06-2.06.94z\"/><path d=\"M17.41 7.96l-1.37-1.37c-.4-.4-.92-.59-1.43-.59-.52 0-1.04.2-1.43.59L10.3 9.45l-7.72 7.72c-.78.78-.78 2.05 0 2.83L4 21.41c.39.39.9.59 1.41.59.51 0 1.02-.2 1.41-.59l7.78-7.78 2.81-2.81c.8-.78.8-2.07 0-2.86zM5.41 20L4 18.59l7.72-7.72 1.47 1.35L5.41 20z\"/>\n",
              "  </svg>\n",
              "      </button>\n",
              "      \n",
              "  <style>\n",
              "    .colab-df-container {\n",
              "      display:flex;\n",
              "      flex-wrap:wrap;\n",
              "      gap: 12px;\n",
              "    }\n",
              "\n",
              "    .colab-df-convert {\n",
              "      background-color: #E8F0FE;\n",
              "      border: none;\n",
              "      border-radius: 50%;\n",
              "      cursor: pointer;\n",
              "      display: none;\n",
              "      fill: #1967D2;\n",
              "      height: 32px;\n",
              "      padding: 0 0 0 0;\n",
              "      width: 32px;\n",
              "    }\n",
              "\n",
              "    .colab-df-convert:hover {\n",
              "      background-color: #E2EBFA;\n",
              "      box-shadow: 0px 1px 2px rgba(60, 64, 67, 0.3), 0px 1px 3px 1px rgba(60, 64, 67, 0.15);\n",
              "      fill: #174EA6;\n",
              "    }\n",
              "\n",
              "    [theme=dark] .colab-df-convert {\n",
              "      background-color: #3B4455;\n",
              "      fill: #D2E3FC;\n",
              "    }\n",
              "\n",
              "    [theme=dark] .colab-df-convert:hover {\n",
              "      background-color: #434B5C;\n",
              "      box-shadow: 0px 1px 3px 1px rgba(0, 0, 0, 0.15);\n",
              "      filter: drop-shadow(0px 1px 2px rgba(0, 0, 0, 0.3));\n",
              "      fill: #FFFFFF;\n",
              "    }\n",
              "  </style>\n",
              "\n",
              "      <script>\n",
              "        const buttonEl =\n",
              "          document.querySelector('#df-8e813fd9-1900-425f-9027-c5f8dcfd777f button.colab-df-convert');\n",
              "        buttonEl.style.display =\n",
              "          google.colab.kernel.accessAllowed ? 'block' : 'none';\n",
              "\n",
              "        async function convertToInteractive(key) {\n",
              "          const element = document.querySelector('#df-8e813fd9-1900-425f-9027-c5f8dcfd777f');\n",
              "          const dataTable =\n",
              "            await google.colab.kernel.invokeFunction('convertToInteractive',\n",
              "                                                     [key], {});\n",
              "          if (!dataTable) return;\n",
              "\n",
              "          const docLinkHtml = 'Like what you see? Visit the ' +\n",
              "            '<a target=\"_blank\" href=https://colab.research.google.com/notebooks/data_table.ipynb>data table notebook</a>'\n",
              "            + ' to learn more about interactive tables.';\n",
              "          element.innerHTML = '';\n",
              "          dataTable['output_type'] = 'display_data';\n",
              "          await google.colab.output.renderOutput(dataTable, element);\n",
              "          const docLink = document.createElement('div');\n",
              "          docLink.innerHTML = docLinkHtml;\n",
              "          element.appendChild(docLink);\n",
              "        }\n",
              "      </script>\n",
              "    </div>\n",
              "  </div>\n",
              "  "
            ]
          },
          "metadata": {},
          "execution_count": 49
        }
      ]
    },
    {
      "cell_type": "markdown",
      "metadata": {
        "id": "7Y08oRISmJYq"
      },
      "source": [
        "#Evaluation"
      ]
    },
    {
      "cell_type": "code",
      "execution_count": null,
      "metadata": {
        "colab": {
          "base_uri": "https://localhost:8080/",
          "height": 594
        },
        "id": "G7MOdlfRa_Gl",
        "outputId": "dac90aa5-9019-4a54-cb13-ef2d9367c7b0"
      },
      "outputs": [
        {
          "output_type": "display_data",
          "data": {
            "text/plain": [
              "<Figure size 900x600 with 1 Axes>"
            ],
            "image/png": "[encoded data removed]"
          },
          "metadata": {
            "needs_background": "light"
          }
        }
      ],
      "source": [
        "import matplotlib.pyplot as plt\n",
        "from sklearn.metrics import roc_curve, auc\n",
        "# get false and true positive rates\n",
        "probas = model.predict_proba(x_test_tfidf)\n",
        "fpr, tpr, thresholds = roc_curve(y_test, probas[:,0], pos_label=0)\n",
        "\n",
        "decision_prob = model_gini.predict_proba(x_test_tfidf)\n",
        "fpr_d, tpr_d, thresholds_d = roc_curve(y_test, decision_prob[:,0], pos_label=0)\n",
        "\n",
        "svm_prob = model_svm.predict_proba(x_test_tfidf)\n",
        "fpr_s, tpr_s, thresholds_s = roc_curve(y_test, svm_prob[:,0], pos_label=0)\n",
        "\n",
        "# get area under the curve\n",
        "roc_auc = auc(fpr, tpr)\n",
        "roc_auc_decision = auc(fpr_d, tpr_d)\n",
        "# PLOT ROC curve\n",
        "plt.figure(dpi=150)\n",
        "plt.plot(fpr, tpr, lw=1, color='green', label=f'Random Forest= {roc_auc:.3f}')\n",
        "plt.plot(fpr_d, tpr_d, lw=1, color='blue', label=f'Decision Tree = {roc_auc_decision:.3f}')\n",
        "plt.plot(fpr_s, tpr_s, lw=1, color='red', label=f'SVM = {roc_auc_decision:.3f}')\n",
        "plt.title('ROC Curve')\n",
        "plt.xlabel('False Positive Rate')\n",
        "plt.ylabel('True Positive Rate (Recall)')\n",
        "plt.xlim([-0.05, 1.05])\n",
        "plt.ylim([-0.05, 1.05])\n",
        "plt.legend()\n",
        "plt.show()"
      ]
    },
    {
      "cell_type": "markdown",
      "metadata": {
        "id": "7kw5FckbBRgo"
      },
      "source": [
        "\n",
        "\n",
        "\n",
        "# References:\n",
        "* https://github.com/Shrneha/Twitter-sentiment-analysis/blob/master/Twitter.ipynb\n",
        "*   https://medium.com/analytics-vidhya/twitter-sentiment-analysis-8ef90df6579c\n",
        "\n"
      ]
    }
  ],
  "metadata": {
    "colab": {
      "provenance": [],
      "include_colab_link": true
    },
    "kernelspec": {
      "display_name": "Python 3 (ipykernel)",
      "language": "python",
      "name": "python3"
    },
    "language_info": {
      "codemirror_mode": {
        "name": "ipython",
        "version": 3
      },
      "file_extension": ".py",
      "mimetype": "text/x-python",
      "name": "python",
      "nbconvert_exporter": "python",
      "pygments_lexer": "ipython3",
      "version": "3.9.7"
    }
  },
  "nbformat": 4,
  "nbformat_minor": 0
}